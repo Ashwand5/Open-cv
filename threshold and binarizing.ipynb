{
 "cells": [
  {
   "cell_type": "code",
   "execution_count": 1,
   "id": "initial_id",
   "metadata": {
    "collapsed": true,
    "ExecuteTime": {
     "end_time": "2024-07-30T16:16:41.027738500Z",
     "start_time": "2024-07-30T16:16:39.831075900Z"
    }
   },
   "outputs": [],
   "source": [
    "import cv2 as cv"
   ]
  },
  {
   "cell_type": "code",
   "execution_count": 13,
   "outputs": [
    {
     "data": {
      "text/plain": "-1"
     },
     "execution_count": 13,
     "metadata": {},
     "output_type": "execute_result"
    }
   ],
   "source": [
    "img=cv.imread('cat_image.jpg')\n",
    "cv.imshow('cat',img)\n",
    "cv.waitKey(0)"
   ],
   "metadata": {
    "collapsed": false,
    "ExecuteTime": {
     "end_time": "2024-07-30T16:29:15.629669800Z",
     "start_time": "2024-07-30T16:29:09.928292300Z"
    }
   },
   "id": "c765be5be9f92297"
  },
  {
   "cell_type": "code",
   "execution_count": 3,
   "outputs": [
    {
     "data": {
      "text/plain": "-1"
     },
     "execution_count": 3,
     "metadata": {},
     "output_type": "execute_result"
    }
   ],
   "source": [
    "gray = cv.cvtColor(img,cv.COLOR_BGRA2GRAY)\n",
    "cv.imshow('gray',gray)\n",
    "cv.waitKey(0)"
   ],
   "metadata": {
    "collapsed": false,
    "ExecuteTime": {
     "end_time": "2024-07-30T16:17:48.695882600Z",
     "start_time": "2024-07-30T16:17:46.955747500Z"
    }
   },
   "id": "5fac14b9af9099fb"
  },
  {
   "cell_type": "markdown",
   "source": [
    "## simple threshold"
   ],
   "metadata": {
    "collapsed": false
   },
   "id": "8cba24eadc9044de"
  },
  {
   "cell_type": "code",
   "execution_count": 18,
   "outputs": [
    {
     "data": {
      "text/plain": "-1"
     },
     "execution_count": 18,
     "metadata": {},
     "output_type": "execute_result"
    }
   ],
   "source": [
    "threshold, thresh_inv = cv.threshold(gray,150,255,cv.THRESH_BINARY_INV)\n",
    "cv.imshow('simple threshold',thresh_inv)\n",
    "cv.waitKey(0)"
   ],
   "metadata": {
    "collapsed": false,
    "ExecuteTime": {
     "end_time": "2024-07-30T16:31:08.013050800Z",
     "start_time": "2024-07-30T16:30:37.328750500Z"
    }
   },
   "id": "4984b68d1ba14d4e"
  },
  {
   "cell_type": "code",
   "execution_count": 22,
   "outputs": [
    {
     "data": {
      "text/plain": "150.0"
     },
     "execution_count": 22,
     "metadata": {},
     "output_type": "execute_result"
    }
   ],
   "source": [
    "threshold, thresh = cv.threshold(gray,150,255,cv.THRESH_BINARY)\n",
    "cv.imshow('simple threshold',thresh)\n",
    "cv.waitKey(0)\n",
    "threshold"
   ],
   "metadata": {
    "collapsed": false,
    "ExecuteTime": {
     "end_time": "2024-07-30T16:51:13.346970200Z",
     "start_time": "2024-07-30T16:51:11.646947800Z"
    }
   },
   "id": "1a18cb500507ee98"
  },
  {
   "cell_type": "markdown",
   "source": [
    "## adaptive thresholding"
   ],
   "metadata": {
    "collapsed": false
   },
   "id": "9d761e18963ccd3d"
  },
  {
   "cell_type": "code",
   "execution_count": 23,
   "outputs": [
    {
     "data": {
      "text/plain": "-1"
     },
     "execution_count": 23,
     "metadata": {},
     "output_type": "execute_result"
    }
   ],
   "source": [
    "adaptive_thresh= cv.adaptiveThreshold(gray,255,cv.ADAPTIVE_THRESH_MEAN_C,cv.THRESH_BINARY,11,3)\n",
    "cv.imshow('adaptive_thresh',adaptive_thresh)\n",
    "cv.waitKey(0)"
   ],
   "metadata": {
    "collapsed": false,
    "ExecuteTime": {
     "end_time": "2024-07-30T16:55:29.637625500Z",
     "start_time": "2024-07-30T16:55:23.752198900Z"
    }
   },
   "id": "497cc0e94f476994"
  },
  {
   "cell_type": "code",
   "execution_count": null,
   "outputs": [],
   "source": [],
   "metadata": {
    "collapsed": false
   },
   "id": "73a7e050c84209f1"
  }
 ],
 "metadata": {
  "kernelspec": {
   "display_name": "Python 3",
   "language": "python",
   "name": "python3"
  },
  "language_info": {
   "codemirror_mode": {
    "name": "ipython",
    "version": 2
   },
   "file_extension": ".py",
   "mimetype": "text/x-python",
   "name": "python",
   "nbconvert_exporter": "python",
   "pygments_lexer": "ipython2",
   "version": "2.7.6"
  }
 },
 "nbformat": 4,
 "nbformat_minor": 5
}
