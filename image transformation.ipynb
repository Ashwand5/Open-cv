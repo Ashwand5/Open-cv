{
 "cells": [
  {
   "cell_type": "code",
   "execution_count": 6,
   "id": "initial_id",
   "metadata": {
    "collapsed": true,
    "ExecuteTime": {
     "end_time": "2024-06-13T17:26:12.350050700Z",
     "start_time": "2024-06-13T17:26:12.331842400Z"
    }
   },
   "outputs": [],
   "source": [
    "import cv2 as cv\n",
    "import numpy as np"
   ]
  },
  {
   "cell_type": "code",
   "execution_count": 11,
   "outputs": [],
   "source": [
    "img= cv.imread('images-removebg-preview.png')"
   ],
   "metadata": {
    "collapsed": false,
    "ExecuteTime": {
     "end_time": "2024-06-13T17:26:40.497585700Z",
     "start_time": "2024-06-13T17:26:40.485833200Z"
    }
   },
   "id": "45ea8ea85539b181"
  },
  {
   "cell_type": "code",
   "execution_count": 3,
   "outputs": [
    {
     "data": {
      "text/plain": "-1"
     },
     "execution_count": 3,
     "metadata": {},
     "output_type": "execute_result"
    }
   ],
   "source": [
    "cv.imshow('image',img)\n",
    "cv.waitKey(0)"
   ],
   "metadata": {
    "collapsed": false,
    "ExecuteTime": {
     "end_time": "2024-06-13T17:23:06.340217600Z",
     "start_time": "2024-06-13T17:22:58.278112800Z"
    }
   },
   "id": "68792d3dada1eed7"
  },
  {
   "cell_type": "code",
   "execution_count": 14,
   "outputs": [],
   "source": [
    "def translate(img,x,y):\n",
    "    transmat = np.float32([[1,0,x],[0,1,y]])\n",
    "    dimensions = (img.shape[1],img.shape[0])\n",
    "    return cv.warpAffine(img, transmat,dimensions)"
   ],
   "metadata": {
    "collapsed": false,
    "ExecuteTime": {
     "end_time": "2024-06-13T17:28:02.244633500Z",
     "start_time": "2024-06-13T17:28:02.224127800Z"
    }
   },
   "id": "1e1b7e5f53b0140e"
  },
  {
   "cell_type": "markdown",
   "source": [
    "-x ---> left\n",
    "-y ---> up\n",
    " x ---> right\n",
    " y---> down"
   ],
   "metadata": {
    "collapsed": false
   },
   "id": "3eb29e8e8819be29"
  },
  {
   "cell_type": "code",
   "execution_count": 18,
   "outputs": [
    {
     "data": {
      "text/plain": "-1"
     },
     "execution_count": 18,
     "metadata": {},
     "output_type": "execute_result"
    }
   ],
   "source": [
    "translated = translate(img,-100,100)\n",
    "cv.imshow('translate',translated)\n",
    "cv.waitKey(0)"
   ],
   "metadata": {
    "collapsed": false,
    "ExecuteTime": {
     "end_time": "2024-06-13T17:55:47.256327700Z",
     "start_time": "2024-06-13T17:55:44.231930600Z"
    }
   },
   "id": "d03ec9ecf46215a8"
  },
  {
   "cell_type": "code",
   "execution_count": 20,
   "outputs": [],
   "source": [
    "def rotate(img,angle,rotPoint=None):\n",
    "    (height,width)=img.shape[:2]\n",
    "    if rotPoint is None:\n",
    "        rotPoint=(width//2,height//2)\n",
    "    \n",
    "    rotMat=cv.getRotationMatrix2D(rotPoint,angle,1.0)\n",
    "    dimensions = (width,height)\n",
    "    return cv.warpAffine(img,rotMat,dimensions)\n"
   ],
   "metadata": {
    "collapsed": false,
    "ExecuteTime": {
     "end_time": "2024-06-13T18:00:44.612628400Z",
     "start_time": "2024-06-13T18:00:44.593421300Z"
    }
   },
   "id": "72a245fd85e9bf4b"
  },
  {
   "cell_type": "code",
   "execution_count": 28,
   "outputs": [
    {
     "data": {
      "text/plain": "-1"
     },
     "execution_count": 28,
     "metadata": {},
     "output_type": "execute_result"
    }
   ],
   "source": [
    "rotated= rotate(img,90)\n",
    "cv.imshow('roate',rotated)\n",
    "cv.waitKey(0)\n",
    "# rotated_rotated= rotate(img,-90)\n",
    "# cv.imshow('roate',rotated_rotated)\n",
    "# cv.waitKey(0)"
   ],
   "metadata": {
    "collapsed": false,
    "ExecuteTime": {
     "end_time": "2024-06-13T18:13:53.357238400Z",
     "start_time": "2024-06-13T18:13:49.007959400Z"
    }
   },
   "id": "26c2669243a68c7e"
  },
  {
   "cell_type": "code",
   "execution_count": 26,
   "outputs": [
    {
     "data": {
      "text/plain": "-1"
     },
     "execution_count": 26,
     "metadata": {},
     "output_type": "execute_result"
    }
   ],
   "source": [
    "resized=  cv.resize(img,(500,500),interpolation=cv.INTER_CUBIC)\n",
    "cv.imshow('RESIZE',resized)\n",
    "cv.waitKey(0)"
   ],
   "metadata": {
    "collapsed": false,
    "ExecuteTime": {
     "end_time": "2024-06-13T18:11:17.193087900Z",
     "start_time": "2024-06-13T18:11:12.022276Z"
    }
   },
   "id": "cccbf533514cd703"
  },
  {
   "cell_type": "markdown",
   "source": [
    "## FLIP"
   ],
   "metadata": {
    "collapsed": false
   },
   "id": "e216228f924ef25c"
  },
  {
   "cell_type": "code",
   "execution_count": 30,
   "outputs": [
    {
     "data": {
      "text/plain": "-1"
     },
     "execution_count": 30,
     "metadata": {},
     "output_type": "execute_result"
    }
   ],
   "source": [
    "flip= cv.flip(img,-1)\n",
    "cv.imshow('flip',flip)\n",
    "cv.waitKey(0)"
   ],
   "metadata": {
    "collapsed": false,
    "ExecuteTime": {
     "end_time": "2024-06-13T18:14:04.079364300Z",
     "start_time": "2024-06-13T18:14:00.584735900Z"
    }
   },
   "id": "fdc410b7173ce913"
  },
  {
   "cell_type": "code",
   "execution_count": null,
   "outputs": [],
   "source": [],
   "metadata": {
    "collapsed": false
   },
   "id": "fba6031991e22cf1"
  }
 ],
 "metadata": {
  "kernelspec": {
   "display_name": "Python 3",
   "language": "python",
   "name": "python3"
  },
  "language_info": {
   "codemirror_mode": {
    "name": "ipython",
    "version": 2
   },
   "file_extension": ".py",
   "mimetype": "text/x-python",
   "name": "python",
   "nbconvert_exporter": "python",
   "pygments_lexer": "ipython2",
   "version": "2.7.6"
  }
 },
 "nbformat": 4,
 "nbformat_minor": 5
}
