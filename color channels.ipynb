{
 "cells": [
  {
   "cell_type": "code",
   "execution_count": 3,
   "id": "initial_id",
   "metadata": {
    "collapsed": true,
    "ExecuteTime": {
     "end_time": "2024-07-24T05:08:44.428475Z",
     "start_time": "2024-07-24T05:08:43.610364Z"
    }
   },
   "outputs": [],
   "source": [
    "import cv2 as cv\n",
    "import numpy as np"
   ]
  },
  {
   "cell_type": "code",
   "execution_count": 4,
   "outputs": [
    {
     "data": {
      "text/plain": "-1"
     },
     "execution_count": 4,
     "metadata": {},
     "output_type": "execute_result"
    }
   ],
   "source": [
    "img = cv.imread('images-removebg-preview.png')\n",
    "cv.imshow('image',img)\n",
    "cv.waitKey(0)"
   ],
   "metadata": {
    "collapsed": false,
    "ExecuteTime": {
     "end_time": "2024-07-24T05:08:51.535151500Z",
     "start_time": "2024-07-24T05:08:46.581716400Z"
    }
   },
   "id": "93cf3bec220ca94"
  },
  {
   "cell_type": "code",
   "execution_count": 5,
   "outputs": [
    {
     "data": {
      "text/plain": "-1"
     },
     "execution_count": 5,
     "metadata": {},
     "output_type": "execute_result"
    }
   ],
   "source": [
    "b,g,r=cv.split(img)\n",
    "cv.imshow('blue',b)\n",
    "cv.imshow('green',g)\n",
    "cv.imshow('red',r)\n",
    "cv.waitKey(0)"
   ],
   "metadata": {
    "collapsed": false,
    "ExecuteTime": {
     "end_time": "2024-07-24T05:09:02.562673400Z",
     "start_time": "2024-07-24T05:08:53.354457Z"
    }
   },
   "id": "f7527076b44e4e98"
  },
  {
   "cell_type": "code",
   "execution_count": 6,
   "outputs": [
    {
     "name": "stdout",
     "output_type": "stream",
     "text": [
      "(195, 195, 3)\n",
      "(195, 195)\n",
      "(195, 195)\n",
      "(195, 195)\n"
     ]
    }
   ],
   "source": [
    "print(img.shape)\n",
    "print(b.shape)\n",
    "print(g.shape)\n",
    "print(r.shape)"
   ],
   "metadata": {
    "collapsed": false,
    "ExecuteTime": {
     "end_time": "2024-07-24T05:09:06.931336600Z",
     "start_time": "2024-07-24T05:09:06.917565800Z"
    }
   },
   "id": "dc068674627d91f5"
  },
  {
   "cell_type": "code",
   "execution_count": 7,
   "outputs": [
    {
     "data": {
      "text/plain": "-1"
     },
     "execution_count": 7,
     "metadata": {},
     "output_type": "execute_result"
    }
   ],
   "source": [
    "merge =  cv.merge([b,g,r])\n",
    "cv.imshow('merge',merge)\n",
    "cv.waitKey(0)"
   ],
   "metadata": {
    "collapsed": false,
    "ExecuteTime": {
     "end_time": "2024-07-24T05:09:11.234443600Z",
     "start_time": "2024-07-24T05:09:09.111620900Z"
    }
   },
   "id": "333de01d0c16b2cf"
  },
  {
   "cell_type": "code",
   "execution_count": 8,
   "outputs": [
    {
     "data": {
      "text/plain": "-1"
     },
     "execution_count": 8,
     "metadata": {},
     "output_type": "execute_result"
    }
   ],
   "source": [
    "blank = np.zeros(img.shape[:2],dtype='uint8')\n",
    "blue =  cv.merge([b,blank,blank])\n",
    "green =  cv.merge([blank,g,blank])\n",
    "red =  cv.merge([blank,blank,r])\n",
    "cv.imshow('merge',blue)\n",
    "cv.waitKey(0)\n",
    "cv.imshow('merge',green)\n",
    "cv.waitKey(0)\n",
    "cv.imshow('merge',red)\n",
    "cv.waitKey(0)"
   ],
   "metadata": {
    "collapsed": false,
    "ExecuteTime": {
     "end_time": "2024-07-24T05:09:30.104514400Z",
     "start_time": "2024-07-24T05:09:15.225666500Z"
    }
   },
   "id": "87dac887540eb049"
  },
  {
   "cell_type": "code",
   "execution_count": null,
   "outputs": [],
   "source": [],
   "metadata": {
    "collapsed": false
   },
   "id": "9f952fc0734092df"
  }
 ],
 "metadata": {
  "kernelspec": {
   "display_name": "Python 3",
   "language": "python",
   "name": "python3"
  },
  "language_info": {
   "codemirror_mode": {
    "name": "ipython",
    "version": 2
   },
   "file_extension": ".py",
   "mimetype": "text/x-python",
   "name": "python",
   "nbconvert_exporter": "python",
   "pygments_lexer": "ipython2",
   "version": "2.7.6"
  }
 },
 "nbformat": 4,
 "nbformat_minor": 5
}
