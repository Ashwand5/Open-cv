{
 "cells": [
  {
   "cell_type": "code",
   "execution_count": 2,
   "id": "initial_id",
   "metadata": {
    "collapsed": true,
    "ExecuteTime": {
     "end_time": "2024-07-31T14:25:10.096645600Z",
     "start_time": "2024-07-31T14:25:08.711321200Z"
    }
   },
   "outputs": [],
   "source": [
    "import cv2 as cv\n",
    "import numpy as np"
   ]
  },
  {
   "cell_type": "code",
   "execution_count": 7,
   "outputs": [
    {
     "data": {
      "text/plain": "-1"
     },
     "execution_count": 7,
     "metadata": {},
     "output_type": "execute_result"
    }
   ],
   "source": [
    "img=cv.imread('cat_image.jpg')\n",
    "cv.imshow('cat',img)\n",
    "cv.waitKey(0)"
   ],
   "metadata": {
    "collapsed": false,
    "ExecuteTime": {
     "end_time": "2024-07-31T14:27:54.298642600Z",
     "start_time": "2024-07-31T14:27:52.093151Z"
    }
   },
   "id": "b8c3c9b6ee327565"
  },
  {
   "cell_type": "code",
   "execution_count": 8,
   "outputs": [
    {
     "data": {
      "text/plain": "-1"
     },
     "execution_count": 8,
     "metadata": {},
     "output_type": "execute_result"
    }
   ],
   "source": [
    "gray = cv.cvtColor(img,cv.COLOR_BGRA2GRAY)\n",
    "cv.imshow('gray',gray)\n",
    "cv.waitKey(0)"
   ],
   "metadata": {
    "collapsed": false,
    "ExecuteTime": {
     "end_time": "2024-07-31T14:27:57.686097200Z",
     "start_time": "2024-07-31T14:27:55.754774700Z"
    }
   },
   "id": "4438597e2f169d5b"
  },
  {
   "cell_type": "markdown",
   "source": [
    "## Laplacian"
   ],
   "metadata": {
    "collapsed": false
   },
   "id": "5392beedc88528b1"
  },
  {
   "cell_type": "code",
   "execution_count": 9,
   "outputs": [
    {
     "data": {
      "text/plain": "-1"
     },
     "execution_count": 9,
     "metadata": {},
     "output_type": "execute_result"
    }
   ],
   "source": [
    "lap = cv.Laplacian(gray, cv.CV_64F)\n",
    "lap = np.uint8(np.absolute(lap))\n",
    "cv.imshow('laplacian',lap)\n",
    "cv.waitKey(0)"
   ],
   "metadata": {
    "collapsed": false,
    "ExecuteTime": {
     "end_time": "2024-07-31T14:28:04.752759800Z",
     "start_time": "2024-07-31T14:27:59.126817200Z"
    }
   },
   "id": "f394b7e4c840764f"
  },
  {
   "cell_type": "markdown",
   "source": [
    "## Sobelx"
   ],
   "metadata": {
    "collapsed": false
   },
   "id": "35fc4dc63f71bc2b"
  },
  {
   "cell_type": "code",
   "execution_count": 10,
   "outputs": [
    {
     "data": {
      "text/plain": "-1"
     },
     "execution_count": 10,
     "metadata": {},
     "output_type": "execute_result"
    }
   ],
   "source": [
    "sobelx = cv.Sobel(gray,cv.CV_32F,1,0)\n",
    "sobely = cv.Sobel(gray,cv.CV_32F,0,1)\n",
    "cv.imshow('x',sobelx)\n",
    "cv.imshow('y',sobely)\n",
    "cv.waitKey(0)"
   ],
   "metadata": {
    "collapsed": false,
    "ExecuteTime": {
     "end_time": "2024-07-31T14:28:57.659144400Z",
     "start_time": "2024-07-31T14:28:13.720155900Z"
    }
   },
   "id": "79e03ccdac5f3fac"
  },
  {
   "cell_type": "code",
   "execution_count": 11,
   "outputs": [
    {
     "data": {
      "text/plain": "-1"
     },
     "execution_count": 11,
     "metadata": {},
     "output_type": "execute_result"
    }
   ],
   "source": [
    "combine_sobel = cv.bitwise_or(sobelx,sobely)\n",
    "cv.imshow('combined_sobel',combine_sobel)\n",
    "cv.waitKey(0)"
   ],
   "metadata": {
    "collapsed": false,
    "ExecuteTime": {
     "end_time": "2024-07-31T14:30:14.909748Z",
     "start_time": "2024-07-31T14:30:11.449545700Z"
    }
   },
   "id": "387da3f37f69780b"
  },
  {
   "cell_type": "markdown",
   "source": [
    "## canny"
   ],
   "metadata": {
    "collapsed": false
   },
   "id": "ef09a5d27e795faf"
  },
  {
   "cell_type": "code",
   "execution_count": 12,
   "outputs": [
    {
     "data": {
      "text/plain": "-1"
     },
     "execution_count": 12,
     "metadata": {},
     "output_type": "execute_result"
    }
   ],
   "source": [
    "canny = cv.Canny(gray,150,175)\n",
    "cv.imshow('canny',canny)\n",
    "cv.waitKey(0)"
   ],
   "metadata": {
    "collapsed": false,
    "ExecuteTime": {
     "end_time": "2024-07-31T14:32:48.656190300Z",
     "start_time": "2024-07-31T14:32:31.481802800Z"
    }
   },
   "id": "e03889e6bdfaeb44"
  },
  {
   "cell_type": "code",
   "execution_count": null,
   "outputs": [],
   "source": [],
   "metadata": {
    "collapsed": false
   },
   "id": "ac8595053e87d3e"
  }
 ],
 "metadata": {
  "kernelspec": {
   "display_name": "Python 3",
   "language": "python",
   "name": "python3"
  },
  "language_info": {
   "codemirror_mode": {
    "name": "ipython",
    "version": 2
   },
   "file_extension": ".py",
   "mimetype": "text/x-python",
   "name": "python",
   "nbconvert_exporter": "python",
   "pygments_lexer": "ipython2",
   "version": "2.7.6"
  }
 },
 "nbformat": 4,
 "nbformat_minor": 5
}
