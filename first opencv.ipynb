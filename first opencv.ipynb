{
 "cells": [
  {
   "cell_type": "code",
   "execution_count": 2,
   "id": "initial_id",
   "metadata": {
    "collapsed": true,
    "ExecuteTime": {
     "end_time": "2024-06-12T15:07:52.168470900Z",
     "start_time": "2024-06-12T15:07:51.738995400Z"
    }
   },
   "outputs": [],
   "source": [
    "import cv2 as cv"
   ]
  },
  {
   "cell_type": "markdown",
   "source": [
    "## READ IMAGES"
   ],
   "metadata": {
    "collapsed": false
   },
   "id": "8793af1cd303a23a"
  },
  {
   "cell_type": "code",
   "execution_count": 7,
   "outputs": [
    {
     "data": {
      "text/plain": "-1"
     },
     "execution_count": 7,
     "metadata": {},
     "output_type": "execute_result"
    }
   ],
   "source": [
    "img=cv.imread('download.jpeg')\n",
    "cv.imshow('dhoni',img)\n",
    "cv.waitKey(0)"
   ],
   "metadata": {
    "collapsed": false,
    "ExecuteTime": {
     "end_time": "2024-06-12T14:38:26.047744700Z",
     "start_time": "2024-06-12T14:38:23.734308400Z"
    }
   },
   "id": "f05fb67d91f6987e"
  },
  {
   "cell_type": "markdown",
   "source": [
    "## READ VIDEOS"
   ],
   "metadata": {
    "collapsed": false
   },
   "id": "fc9f5439617c1f0e"
  },
  {
   "cell_type": "code",
   "execution_count": 3,
   "outputs": [],
   "source": [
    "def rescaleframe(frame,scale=0.75):\n",
    "    width = int(frame.shape[1]* scale)\n",
    "    height = int(frame.shape[0]*scale)\n",
    "    dimension = (width,height)\n",
    "\n",
    "    return cv.resize(frame,dimension,interpolation=cv.INTER_AREA)"
   ],
   "metadata": {
    "collapsed": false,
    "ExecuteTime": {
     "end_time": "2024-06-12T15:07:54.398248500Z",
     "start_time": "2024-06-12T15:07:54.382191500Z"
    }
   },
   "id": "5144d5c4d5ebeecb"
  },
  {
   "cell_type": "code",
   "execution_count": 16,
   "outputs": [],
   "source": [
    "# for video only\n",
    "vid=cv.VideoCapture('15 seconds of nature.mp4')\n",
    "while True:\n",
    "    isTrue ,frame = vid.read()\n",
    "    frame_resize = rescaleframe(frame)\n",
    "    cv.imshow('video',frame)\n",
    "    cv.imshow('resized video',frame_resize)\n",
    "    if cv.waitKey(20) & 0xFF==ord('a'):\n",
    "        break\n",
    "vid.release()\n",
    "cv.destroyAllWindows()"
   ],
   "metadata": {
    "collapsed": false,
    "ExecuteTime": {
     "end_time": "2024-06-12T14:54:14.343088Z",
     "start_time": "2024-06-12T14:54:14.178756900Z"
    }
   },
   "id": "6e2759e6e778f4e4"
  },
  {
   "cell_type": "code",
   "execution_count": 5,
   "outputs": [],
   "source": [
    "# img= cv.imread('infinity.jpg')\n",
    "# cv.imshow('large',img)\n",
    "img1=cv.imread('infinity.jpg')\n",
    "re=rescaleframe(img1)\n",
    "cv.imshow('asdf',re)"
   ],
   "metadata": {
    "collapsed": false,
    "ExecuteTime": {
     "end_time": "2024-06-12T15:09:09.730479400Z",
     "start_time": "2024-06-12T15:09:09.701403900Z"
    }
   },
   "id": "a40dc094fbb80422"
  },
  {
   "cell_type": "code",
   "execution_count": 3,
   "outputs": [],
   "source": [
    "\n",
    "def changeres(width,height):\n",
    "    img.set(3,width)\n",
    "    img.set(4,height)"
   ],
   "metadata": {
    "collapsed": false,
    "ExecuteTime": {
     "end_time": "2024-06-12T14:35:27.777645500Z",
     "start_time": "2024-06-12T14:35:27.755754600Z"
    }
   },
   "id": "7b5ae4b4a322bf15"
  },
  {
   "cell_type": "code",
   "execution_count": null,
   "outputs": [],
   "source": [],
   "metadata": {
    "collapsed": false
   },
   "id": "63e3f88c7f09dabe"
  }
 ],
 "metadata": {
  "kernelspec": {
   "display_name": "Python 3",
   "language": "python",
   "name": "python3"
  },
  "language_info": {
   "codemirror_mode": {
    "name": "ipython",
    "version": 2
   },
   "file_extension": ".py",
   "mimetype": "text/x-python",
   "name": "python",
   "nbconvert_exporter": "python",
   "pygments_lexer": "ipython2",
   "version": "2.7.6"
  }
 },
 "nbformat": 4,
 "nbformat_minor": 5
}
