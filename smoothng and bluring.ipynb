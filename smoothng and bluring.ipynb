{
 "cells": [
  {
   "cell_type": "code",
   "execution_count": 1,
   "id": "initial_id",
   "metadata": {
    "collapsed": true,
    "ExecuteTime": {
     "end_time": "2024-07-29T14:10:49.281574900Z",
     "start_time": "2024-07-29T14:10:48.590695700Z"
    }
   },
   "outputs": [],
   "source": [
    "import cv2 as cv"
   ]
  },
  {
   "cell_type": "code",
   "execution_count": 7,
   "outputs": [
    {
     "data": {
      "text/plain": "-1"
     },
     "execution_count": 7,
     "metadata": {},
     "output_type": "execute_result"
    }
   ],
   "source": [
    "img = cv.imread('images-removebg-preview.png')\n",
    "cv.imshow('image',img)\n",
    "cv.waitKey(0)"
   ],
   "metadata": {
    "collapsed": false,
    "ExecuteTime": {
     "end_time": "2024-07-29T14:11:35.255537800Z",
     "start_time": "2024-07-29T14:11:31.254328200Z"
    }
   },
   "id": "3e326686b0e10509"
  },
  {
   "cell_type": "code",
   "execution_count": 6,
   "outputs": [
    {
     "ename": "NameError",
     "evalue": "name 'img' is not defined",
     "output_type": "error",
     "traceback": [
      "\u001B[1;31m---------------------------------------------------------------------------\u001B[0m",
      "\u001B[1;31mNameError\u001B[0m                                 Traceback (most recent call last)",
      "Cell \u001B[1;32mIn[6], line 1\u001B[0m\n\u001B[1;32m----> 1\u001B[0m blur \u001B[38;5;241m=\u001B[39m cv\u001B[38;5;241m.\u001B[39mblur(img,(\u001B[38;5;241m5\u001B[39m,\u001B[38;5;241m5\u001B[39m))\n\u001B[0;32m      2\u001B[0m cv\u001B[38;5;241m.\u001B[39mimshow(\u001B[38;5;124m'\u001B[39m\u001B[38;5;124mblur\u001B[39m\u001B[38;5;124m'\u001B[39m,blur)\n\u001B[0;32m      3\u001B[0m gauss \u001B[38;5;241m=\u001B[39m cv\u001B[38;5;241m.\u001B[39mGaussianBlur(img,(\u001B[38;5;241m5\u001B[39m,\u001B[38;5;241m5\u001B[39m),\u001B[38;5;241m0\u001B[39m)\n",
      "\u001B[1;31mNameError\u001B[0m: name 'img' is not defined"
     ]
    }
   ],
   "source": [
    "blur = cv.blur(img,(5,5))\n",
    "cv.imshow('blur',blur)\n",
    "gauss = cv.GaussianBlur(img,(5,5),0)\n",
    "cv.imshow('gauss',gauss)\n",
    "median = cv.medianBlur(img,5)\n",
    "cv.imshow('median',median)\n",
    "cv.waitKey(0)"
   ],
   "metadata": {
    "collapsed": false,
    "ExecuteTime": {
     "end_time": "2024-07-29T14:11:28.580054400Z",
     "start_time": "2024-07-29T14:11:28.560266900Z"
    }
   },
   "id": "8be0e6bc08fc5fc5"
  },
  {
   "cell_type": "code",
   "execution_count": 11,
   "outputs": [
    {
     "data": {
      "text/plain": "-1"
     },
     "execution_count": 11,
     "metadata": {},
     "output_type": "execute_result"
    }
   ],
   "source": [
    "blur = cv.blur(img,(5,5))\n",
    "cv.imshow('blur',blur)\n",
    "cv.waitKey(0)"
   ],
   "metadata": {
    "collapsed": false,
    "ExecuteTime": {
     "end_time": "2024-07-25T14:35:21.589910Z",
     "start_time": "2024-07-25T14:35:19.324075900Z"
    }
   },
   "id": "633aff01870a5d81"
  },
  {
   "cell_type": "code",
   "execution_count": 8,
   "outputs": [
    {
     "data": {
      "text/plain": "-1"
     },
     "execution_count": 8,
     "metadata": {},
     "output_type": "execute_result"
    }
   ],
   "source": [
    "gauss = cv.GaussianBlur(img,(5,5),0)\n",
    "cv.imshow('gauss',gauss)\n",
    "cv.waitKey(0)"
   ],
   "metadata": {
    "collapsed": false,
    "ExecuteTime": {
     "end_time": "2024-07-25T14:29:30.619879400Z",
     "start_time": "2024-07-25T14:29:27.849726600Z"
    }
   },
   "id": "5f5a3c88a00e280f"
  },
  {
   "cell_type": "code",
   "execution_count": 9,
   "outputs": [
    {
     "data": {
      "text/plain": "-1"
     },
     "execution_count": 9,
     "metadata": {},
     "output_type": "execute_result"
    }
   ],
   "source": [
    "median = cv.medianBlur(img,5)\n",
    "cv.imshow('median',median)\n",
    "cv.waitKey(0)"
   ],
   "metadata": {
    "collapsed": false,
    "ExecuteTime": {
     "end_time": "2024-07-25T14:30:35.185589500Z",
     "start_time": "2024-07-25T14:30:32.732781Z"
    }
   },
   "id": "1674eeaffb270e6"
  },
  {
   "cell_type": "code",
   "execution_count": 2,
   "outputs": [],
   "source": [
    "img1=cv.imread(\"C:/Users/ashwa/Downloads/Photographing-mountains-in-spring-1200x800.jpg\")"
   ],
   "metadata": {
    "collapsed": false,
    "ExecuteTime": {
     "end_time": "2024-07-29T14:10:50.276018200Z",
     "start_time": "2024-07-29T14:10:50.236944800Z"
    }
   },
   "id": "7e58df802ae91062"
  },
  {
   "cell_type": "code",
   "execution_count": 9,
   "outputs": [
    {
     "data": {
      "text/plain": "-1"
     },
     "execution_count": 9,
     "metadata": {},
     "output_type": "execute_result"
    }
   ],
   "source": [
    "bilateral = cv.bilateralFilter(img,5,15,55)\n",
    "cv.imshow('bilateral',bilateral)\n",
    "cv.waitKey(0)"
   ],
   "metadata": {
    "collapsed": false,
    "ExecuteTime": {
     "end_time": "2024-07-29T14:11:50.587910900Z",
     "start_time": "2024-07-29T14:11:47.727665300Z"
    }
   },
   "id": "108be2499deca82b"
  },
  {
   "cell_type": "code",
   "execution_count": null,
   "outputs": [],
   "source": [],
   "metadata": {
    "collapsed": false
   },
   "id": "21330c10ae008d9f"
  }
 ],
 "metadata": {
  "kernelspec": {
   "display_name": "Python 3",
   "language": "python",
   "name": "python3"
  },
  "language_info": {
   "codemirror_mode": {
    "name": "ipython",
    "version": 2
   },
   "file_extension": ".py",
   "mimetype": "text/x-python",
   "name": "python",
   "nbconvert_exporter": "python",
   "pygments_lexer": "ipython2",
   "version": "2.7.6"
  }
 },
 "nbformat": 4,
 "nbformat_minor": 5
}
