{
 "cells": [
  {
   "cell_type": "code",
   "execution_count": 2,
   "id": "initial_id",
   "metadata": {
    "collapsed": true,
    "ExecuteTime": {
     "end_time": "2024-07-20T15:31:42.260628300Z",
     "start_time": "2024-07-20T15:31:41.738022200Z"
    }
   },
   "outputs": [],
   "source": [
    "import cv2 as cv"
   ]
  },
  {
   "cell_type": "markdown",
   "source": [
    "## NORMAL IMAGE"
   ],
   "metadata": {
    "collapsed": false
   },
   "id": "42f04212b2f134b3"
  },
  {
   "cell_type": "code",
   "execution_count": 3,
   "outputs": [],
   "source": [
    "img = cv.imread('images-removebg-preview.png')"
   ],
   "metadata": {
    "collapsed": false,
    "ExecuteTime": {
     "end_time": "2024-07-20T15:31:42.835605800Z",
     "start_time": "2024-07-20T15:31:42.822663500Z"
    }
   },
   "id": "7bf455eecedf9bd2"
  },
  {
   "cell_type": "code",
   "execution_count": 3,
   "outputs": [
    {
     "data": {
      "text/plain": "-1"
     },
     "execution_count": 3,
     "metadata": {},
     "output_type": "execute_result"
    }
   ],
   "source": [
    "\n",
    "cv.imshow('dhoni',img)\n",
    "cv.waitKey(0)"
   ],
   "metadata": {
    "collapsed": false,
    "ExecuteTime": {
     "end_time": "2024-07-20T15:15:25.687052700Z",
     "start_time": "2024-07-20T15:15:20.679871900Z"
    }
   },
   "id": "7c23f382ed9740e6"
  },
  {
   "cell_type": "markdown",
   "source": [
    "## GRAY SCALE IMAGE"
   ],
   "metadata": {
    "collapsed": false
   },
   "id": "313eb989b56f215"
  },
  {
   "cell_type": "code",
   "execution_count": 4,
   "outputs": [
    {
     "data": {
      "text/plain": "-1"
     },
     "execution_count": 4,
     "metadata": {},
     "output_type": "execute_result"
    }
   ],
   "source": [
    "gray = cv.cvtColor(img, cv.COLOR_BGRA2GRAY)\n",
    "cv.imshow('gray',gray)\n",
    "cv.waitKey(0)"
   ],
   "metadata": {
    "collapsed": false,
    "ExecuteTime": {
     "end_time": "2024-07-20T15:15:44.525956400Z",
     "start_time": "2024-07-20T15:15:39.757962600Z"
    }
   },
   "id": "a5ce6e60b64295e0"
  },
  {
   "cell_type": "markdown",
   "source": [
    "## BLUR IMAGE"
   ],
   "metadata": {
    "collapsed": false
   },
   "id": "3178f0e95ac42ca"
  },
  {
   "cell_type": "code",
   "execution_count": 5,
   "outputs": [
    {
     "data": {
      "text/plain": "-1"
     },
     "execution_count": 5,
     "metadata": {},
     "output_type": "execute_result"
    }
   ],
   "source": [
    "# gray = cv.cvtColor(img, cv.COLOR_BGRA2GRAY)\n",
    "# cv.imshow('gray',gray)\n",
    "\n",
    "blur= cv.GaussianBlur(img,(9,9),cv.BORDER_DEFAULT)\n",
    "cv.imshow('gray',blur)\n",
    "\n",
    "cv.waitKey(0)"
   ],
   "metadata": {
    "collapsed": false,
    "ExecuteTime": {
     "end_time": "2024-07-20T15:15:59.151032Z",
     "start_time": "2024-07-20T15:15:56.420658300Z"
    }
   },
   "id": "ca71981766bf607c"
  },
  {
   "cell_type": "markdown",
   "source": [
    "## EDGE DETECTION"
   ],
   "metadata": {
    "collapsed": false
   },
   "id": "464bf33bfacd9457"
  },
  {
   "cell_type": "code",
   "execution_count": 6,
   "outputs": [],
   "source": [
    "img=cv.imread('HD wallpaper_ wolf, howl, silhouette, full moon, fire moon, space, night.jpg')"
   ],
   "metadata": {
    "collapsed": false,
    "ExecuteTime": {
     "end_time": "2024-07-20T15:16:06.127000600Z",
     "start_time": "2024-07-20T15:16:06.083389100Z"
    }
   },
   "id": "9262a387ff0b3f15"
  },
  {
   "cell_type": "code",
   "execution_count": 6,
   "outputs": [],
   "source": [],
   "metadata": {
    "collapsed": false,
    "ExecuteTime": {
     "end_time": "2024-07-20T15:16:06.827113Z",
     "start_time": "2024-07-20T15:16:06.802988600Z"
    }
   },
   "id": "d33279ae3f448c3b"
  },
  {
   "cell_type": "markdown",
   "source": [],
   "metadata": {
    "collapsed": false
   },
   "id": "242fb6a59ec243fc"
  },
  {
   "cell_type": "code",
   "execution_count": 10,
   "outputs": [
    {
     "data": {
      "text/plain": "-1"
     },
     "execution_count": 10,
     "metadata": {},
     "output_type": "execute_result"
    }
   ],
   "source": [
    "canny =cv.Canny(img,10,20)\n",
    "a=cv.Canny(img,20,30)\n",
    "cv.imshow('a',a)\n",
    "# cv.imshow('canny',canny)\n",
    "cv.waitKey(0)"
   ],
   "metadata": {
    "collapsed": false,
    "ExecuteTime": {
     "end_time": "2024-07-20T15:33:17.111836200Z",
     "start_time": "2024-07-20T15:33:14.837417800Z"
    }
   },
   "id": "8243e70ca5f967fc"
  },
  {
   "cell_type": "markdown",
   "source": [
    "## dilate"
   ],
   "metadata": {
    "collapsed": false
   },
   "id": "b041971074737675"
  },
  {
   "cell_type": "code",
   "execution_count": 11,
   "outputs": [
    {
     "data": {
      "text/plain": "-1"
     },
     "execution_count": 11,
     "metadata": {},
     "output_type": "execute_result"
    }
   ],
   "source": [
    "dilated = cv.dilate(canny,(7,7),iterations=3)\n",
    "cv.imshow('dilate',dilated)\n",
    "cv.waitKey(0)"
   ],
   "metadata": {
    "collapsed": false,
    "ExecuteTime": {
     "end_time": "2024-07-20T15:33:25.447460Z",
     "start_time": "2024-07-20T15:33:21.829855900Z"
    }
   },
   "id": "e4351c27f3672656"
  },
  {
   "cell_type": "markdown",
   "source": [
    "## eroding"
   ],
   "metadata": {
    "collapsed": false
   },
   "id": "74ba06dd0f1de07e"
  },
  {
   "cell_type": "code",
   "execution_count": 12,
   "outputs": [
    {
     "data": {
      "text/plain": "-1"
     },
     "execution_count": 12,
     "metadata": {},
     "output_type": "execute_result"
    }
   ],
   "source": [
    "eroded= cv.erode(dilated,(7,7),iterations=1)\n",
    "cv.imshow('erode',eroded)\n",
    "cv.waitKey(0)"
   ],
   "metadata": {
    "collapsed": false,
    "ExecuteTime": {
     "end_time": "2024-07-20T15:33:31.658973100Z",
     "start_time": "2024-07-20T15:33:28.652721100Z"
    }
   },
   "id": "676a8001e4adaaf6"
  },
  {
   "cell_type": "markdown",
   "source": [
    "## resize"
   ],
   "metadata": {
    "collapsed": false
   },
   "id": "9dde840622504ffe"
  },
  {
   "cell_type": "markdown",
   "source": [
    "## Choosing the Right Interpolation Method:\n",
    "\n",
    "For Upscaling:\n",
    "Use cv2.INTER_LINEAR or cv2.INTER_CUBIC for general-purpose upscaling. INTER_LINEAR provides a good balance between speed and quality, while INTER_CUBIC produces smoother results but is slower.\n",
    "Use cv2.INTER_LANCZOS4 for high-quality upscaling when fine details need to be preserved.\n",
    "\n",
    "For Downscaling:\n",
    "Use cv2.INTER_AREA for shrinking images. It helps preserve details and prevents aliasing artifacts that may occur with other methods.\n",
    "\n",
    "For Real-Time Applications:\n",
    "Use cv2.INTER_NEAREST if speed is critical and quality can be sacrificed.\n",
    "Consider cv2.INTER_LINEAR for a good compromise between speed and quality in real-time applications.\n",
    "\n",
    "For Image Analysis and Processing:\n",
    "Choose cv2.INTER_CUBIC or cv2.INTER_LANCZOS4 when accuracy and image quality are paramount, especially in applications like medical imaging or detailed analysis."
   ],
   "metadata": {
    "collapsed": false
   },
   "id": "906be2897980976c"
  },
  {
   "cell_type": "code",
   "execution_count": 5,
   "outputs": [
    {
     "data": {
      "text/plain": "-1"
     },
     "execution_count": 5,
     "metadata": {},
     "output_type": "execute_result"
    }
   ],
   "source": [
    "resized= cv.resize(img,(500,500),interpolation=cv.INTER_AREA)\n",
    "cv.imshow('re',resized)\n",
    "cv.waitKey(0)"
   ],
   "metadata": {
    "collapsed": false,
    "ExecuteTime": {
     "end_time": "2024-06-13T17:17:23.780165700Z",
     "start_time": "2024-06-13T17:17:21.909464200Z"
    }
   },
   "id": "a4977f1c2581b323"
  },
  {
   "cell_type": "markdown",
   "source": [
    "## cropping"
   ],
   "metadata": {
    "collapsed": false
   },
   "id": "3a868afbc25c6d59"
  },
  {
   "cell_type": "code",
   "execution_count": 9,
   "outputs": [
    {
     "data": {
      "text/plain": "-1"
     },
     "execution_count": 9,
     "metadata": {},
     "output_type": "execute_result"
    }
   ],
   "source": [
    "cropped = resized[50:200,200:250]\n",
    "cv.imshow('cropped',cropped)\n",
    "cv.waitKey(0)"
   ],
   "metadata": {
    "collapsed": false,
    "ExecuteTime": {
     "end_time": "2024-06-13T17:18:13.563849300Z",
     "start_time": "2024-06-13T17:18:07.699386300Z"
    }
   },
   "id": "2ecb17d552b1c115"
  },
  {
   "cell_type": "code",
   "execution_count": null,
   "outputs": [],
   "source": [],
   "metadata": {
    "collapsed": false
   },
   "id": "9c0085e3755ec007"
  }
 ],
 "metadata": {
  "kernelspec": {
   "display_name": "Python 3",
   "language": "python",
   "name": "python3"
  },
  "language_info": {
   "codemirror_mode": {
    "name": "ipython",
    "version": 2
   },
   "file_extension": ".py",
   "mimetype": "text/x-python",
   "name": "python",
   "nbconvert_exporter": "python",
   "pygments_lexer": "ipython2",
   "version": "2.7.6"
  }
 },
 "nbformat": 4,
 "nbformat_minor": 5
}
