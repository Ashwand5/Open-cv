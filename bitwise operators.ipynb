{
 "cells": [
  {
   "cell_type": "code",
   "execution_count": 2,
   "id": "initial_id",
   "metadata": {
    "collapsed": true,
    "ExecuteTime": {
     "end_time": "2024-07-30T15:00:06.404059100Z",
     "start_time": "2024-07-30T15:00:06.093672700Z"
    }
   },
   "outputs": [],
   "source": [
    "import cv2 as cv\n",
    "import numpy as np"
   ]
  },
  {
   "cell_type": "markdown",
   "source": [
    "## BITWISE OPERATION"
   ],
   "metadata": {
    "collapsed": false
   },
   "id": "c41378759860ec75"
  },
  {
   "cell_type": "code",
   "execution_count": 3,
   "outputs": [],
   "source": [
    "img = cv.imread('images-removebg-preview.png')"
   ],
   "metadata": {
    "collapsed": false,
    "ExecuteTime": {
     "end_time": "2024-07-30T15:00:07.346485700Z",
     "start_time": "2024-07-30T15:00:07.331294600Z"
    }
   },
   "id": "1077755d8814fb42"
  },
  {
   "cell_type": "code",
   "execution_count": 4,
   "outputs": [],
   "source": [
    "blank = np.zeros((400,400),dtype='uint8')"
   ],
   "metadata": {
    "collapsed": false,
    "ExecuteTime": {
     "end_time": "2024-07-30T15:00:07.893832200Z",
     "start_time": "2024-07-30T15:00:07.883822200Z"
    }
   },
   "id": "3e571ec8f1d0eb51"
  },
  {
   "cell_type": "code",
   "execution_count": 5,
   "outputs": [
    {
     "data": {
      "text/plain": "-1"
     },
     "execution_count": 5,
     "metadata": {},
     "output_type": "execute_result"
    }
   ],
   "source": [
    "rectangle= cv.rectangle(blank.copy(),(30,30),(370,370),255,-1)\n",
    "circle=cv.circle(blank.copy(),(200,200),200,255,-1)\n",
    "cv.imshow('rec',rectangle)\n",
    "cv.waitKey(0)\n",
    "cv.imshow('ci',circle)\n",
    "cv.waitKey(0)"
   ],
   "metadata": {
    "collapsed": false,
    "ExecuteTime": {
     "end_time": "2024-07-30T15:00:14.290555400Z",
     "start_time": "2024-07-30T15:00:09.262707300Z"
    }
   },
   "id": "35fd634b831125e9"
  },
  {
   "cell_type": "markdown",
   "source": [
    "bitwise and"
   ],
   "metadata": {
    "collapsed": false
   },
   "id": "c61e53f5d2c0a017"
  },
  {
   "cell_type": "code",
   "execution_count": 19,
   "outputs": [
    {
     "data": {
      "text/plain": "-1"
     },
     "execution_count": 19,
     "metadata": {},
     "output_type": "execute_result"
    }
   ],
   "source": [
    "bit_and = cv.bitwise_and(circle,rectangle)\n",
    "cv.imshow('and',bit_and)\n",
    "cv.waitKey(0)"
   ],
   "metadata": {
    "collapsed": false,
    "ExecuteTime": {
     "end_time": "2024-07-29T14:28:52.581706800Z",
     "start_time": "2024-07-29T14:28:50.086127200Z"
    }
   },
   "id": "c34d300396459b70"
  },
  {
   "cell_type": "markdown",
   "source": [
    "bitwise or"
   ],
   "metadata": {
    "collapsed": false
   },
   "id": "f46bdc6182b0bfa"
  },
  {
   "cell_type": "code",
   "execution_count": 20,
   "outputs": [
    {
     "data": {
      "text/plain": "-1"
     },
     "execution_count": 20,
     "metadata": {},
     "output_type": "execute_result"
    }
   ],
   "source": [
    "bit_or = cv.bitwise_or(circle,rectangle)\n",
    "cv.imshow('and',bit_or)\n",
    "cv.waitKey(0)"
   ],
   "metadata": {
    "collapsed": false,
    "ExecuteTime": {
     "end_time": "2024-07-29T14:28:57.141443400Z",
     "start_time": "2024-07-29T14:28:55.148143900Z"
    }
   },
   "id": "fb8ebc5c1aa00e96"
  },
  {
   "cell_type": "markdown",
   "source": [
    "bitwise not"
   ],
   "metadata": {
    "collapsed": false
   },
   "id": "a81eac2b31308ef2"
  },
  {
   "cell_type": "code",
   "execution_count": 22,
   "outputs": [
    {
     "data": {
      "text/plain": "-1"
     },
     "execution_count": 22,
     "metadata": {},
     "output_type": "execute_result"
    }
   ],
   "source": [
    "bit_not = cv.bitwise_not(circle)\n",
    "cv.imshow('and',bit_not)\n",
    "cv.waitKey(0)"
   ],
   "metadata": {
    "collapsed": false,
    "ExecuteTime": {
     "end_time": "2024-07-29T14:29:09.998914900Z",
     "start_time": "2024-07-29T14:29:07.885699100Z"
    }
   },
   "id": "e80504d91f4452ff"
  },
  {
   "cell_type": "markdown",
   "source": [
    "bitwise xor"
   ],
   "metadata": {
    "collapsed": false
   },
   "id": "edee8db059ef9fac"
  },
  {
   "cell_type": "code",
   "execution_count": 23,
   "outputs": [
    {
     "data": {
      "text/plain": "-1"
     },
     "execution_count": 23,
     "metadata": {},
     "output_type": "execute_result"
    }
   ],
   "source": [
    "bit_xor = cv.bitwise_xor(rectangle,circle)\n",
    "cv.imshow('and',bit_xor)\n",
    "cv.waitKey(0)"
   ],
   "metadata": {
    "collapsed": false,
    "ExecuteTime": {
     "end_time": "2024-07-29T14:29:14.660062300Z",
     "start_time": "2024-07-29T14:29:11.977771200Z"
    }
   },
   "id": "35bb00864da184ba"
  },
  {
   "cell_type": "markdown",
   "source": [
    "## MASKING"
   ],
   "metadata": {
    "collapsed": false
   },
   "id": "1545defbcfb83d56"
  },
  {
   "cell_type": "code",
   "execution_count": 6,
   "outputs": [],
   "source": [
    "import cv2 as cv"
   ],
   "metadata": {
    "collapsed": false,
    "ExecuteTime": {
     "end_time": "2024-07-30T15:00:18.258544Z",
     "start_time": "2024-07-30T15:00:18.246086800Z"
    }
   },
   "id": "384744aff24a6c56"
  },
  {
   "cell_type": "code",
   "execution_count": 7,
   "outputs": [],
   "source": [
    "img_='animal.jpg'"
   ],
   "metadata": {
    "collapsed": false,
    "ExecuteTime": {
     "end_time": "2024-07-30T15:00:18.677801900Z",
     "start_time": "2024-07-30T15:00:18.667151200Z"
    }
   },
   "id": "abde119aab07488e"
  },
  {
   "cell_type": "code",
   "execution_count": 8,
   "outputs": [
    {
     "data": {
      "text/plain": "-1"
     },
     "execution_count": 8,
     "metadata": {},
     "output_type": "execute_result"
    }
   ],
   "source": [
    "img1= cv.imread(img_)\n",
    "cv.imshow('ci',img1)\n",
    "cv.waitKey(0)"
   ],
   "metadata": {
    "collapsed": false,
    "ExecuteTime": {
     "end_time": "2024-07-30T15:00:21.339790200Z",
     "start_time": "2024-07-30T15:00:19.053094Z"
    }
   },
   "id": "2a814e978b38f192"
  },
  {
   "cell_type": "code",
   "execution_count": 9,
   "outputs": [
    {
     "data": {
      "text/plain": "-1"
     },
     "execution_count": 9,
     "metadata": {},
     "output_type": "execute_result"
    }
   ],
   "source": [
    "blank_img= np.zeros(img1.shape[:2],dtype='uint8')\n",
    "cv.imshow('blank',blank_img)\n",
    "cv.waitKey(0)"
   ],
   "metadata": {
    "collapsed": false,
    "ExecuteTime": {
     "end_time": "2024-07-30T15:00:26.530779500Z",
     "start_time": "2024-07-30T15:00:24.575123100Z"
    }
   },
   "id": "40635d46e25f6740"
  },
  {
   "cell_type": "code",
   "execution_count": 10,
   "outputs": [
    {
     "data": {
      "text/plain": "-1"
     },
     "execution_count": 10,
     "metadata": {},
     "output_type": "execute_result"
    }
   ],
   "source": [
    "mask= cv.circle(blank_img,(img1.shape[1]//2,img1.shape[0]//2),100,255,-1)\n",
    "cv.imshow('circle',mask)\n",
    "cv.waitKey(0)"
   ],
   "metadata": {
    "collapsed": false,
    "ExecuteTime": {
     "end_time": "2024-07-30T15:00:30.342762100Z",
     "start_time": "2024-07-30T15:00:28.319750100Z"
    }
   },
   "id": "eb6347d6a8ddeb14"
  },
  {
   "cell_type": "code",
   "execution_count": 46,
   "outputs": [
    {
     "data": {
      "text/plain": "-1"
     },
     "execution_count": 46,
     "metadata": {},
     "output_type": "execute_result"
    }
   ],
   "source": [
    "masked= cv.bitwise_and(img1,img1,mask=mask)\n",
    "cv.imshow('blank',masked)\n",
    "cv.waitKey(0)"
   ],
   "metadata": {
    "collapsed": false,
    "ExecuteTime": {
     "end_time": "2024-07-29T15:11:28.716237900Z",
     "start_time": "2024-07-29T14:54:19.255623600Z"
    }
   },
   "id": "14fced741b295e96"
  },
  {
   "cell_type": "code",
   "execution_count": null,
   "outputs": [],
   "source": [],
   "metadata": {
    "collapsed": false
   },
   "id": "80dde1b7f0e3ed5b"
  }
 ],
 "metadata": {
  "kernelspec": {
   "display_name": "Python 3",
   "language": "python",
   "name": "python3"
  },
  "language_info": {
   "codemirror_mode": {
    "name": "ipython",
    "version": 2
   },
   "file_extension": ".py",
   "mimetype": "text/x-python",
   "name": "python",
   "nbconvert_exporter": "python",
   "pygments_lexer": "ipython2",
   "version": "2.7.6"
  }
 },
 "nbformat": 4,
 "nbformat_minor": 5
}
